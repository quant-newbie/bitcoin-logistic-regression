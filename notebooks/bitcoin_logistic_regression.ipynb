{
 "cells": [
  {
   "cell_type": "markdown",
   "id": "c4568170",
   "metadata": {},
   "source": [
    "# Bitcoin 價格方向 Logistic Regression\n",
    "利用 Binance 1 小時數據與技術指標，示範如何建立一個簡單的 Logistic Regression 模型來預測下一根 K 線的漲跌方向。"
   ]
  },
  {
   "cell_type": "code",
   "execution_count": 1,
   "id": "32a21fa1",
   "metadata": {},
   "outputs": [],
   "source": [
    "import pandas as pd\n",
    "import numpy as np\n",
    "from pathlib import Path\n",
    "from sklearn.pipeline import Pipeline\n",
    "from sklearn.preprocessing import StandardScaler\n",
    "from sklearn.linear_model import LogisticRegression\n",
    "from sklearn.metrics import accuracy_score, classification_report\n",
    "import matplotlib.pyplot as plt\n",
    "import seaborn as sns\n",
    "\n",
    "plt.style.use('seaborn-v0_8-darkgrid')"
   ]
  },
  {
   "cell_type": "markdown",
   "id": "295241e5",
   "metadata": {},
   "source": [
    "## 載入原始資料\n",
    "歷史資料使用 `scripts/download_data.py` 從 Binance 抓取並儲存在 `data/` 目錄。"
   ]
  },
  {
   "cell_type": "code",
   "execution_count": 2,
   "id": "241c6338",
   "metadata": {},
   "outputs": [
    {
     "data": {
      "text/html": [
       "<div>\n",
       "<style scoped>\n",
       "    .dataframe tbody tr th:only-of-type {\n",
       "        vertical-align: middle;\n",
       "    }\n",
       "\n",
       "    .dataframe tbody tr th {\n",
       "        vertical-align: top;\n",
       "    }\n",
       "\n",
       "    .dataframe thead th {\n",
       "        text-align: right;\n",
       "    }\n",
       "</style>\n",
       "<table border=\"1\" class=\"dataframe\">\n",
       "  <thead>\n",
       "    <tr style=\"text-align: right;\">\n",
       "      <th></th>\n",
       "      <th>open_time</th>\n",
       "      <th>open</th>\n",
       "      <th>high</th>\n",
       "      <th>low</th>\n",
       "      <th>close</th>\n",
       "      <th>volume</th>\n",
       "      <th>close_time</th>\n",
       "      <th>quote_asset_volume</th>\n",
       "      <th>number_of_trades</th>\n",
       "      <th>taker_buy_base_volume</th>\n",
       "      <th>taker_buy_quote_volume</th>\n",
       "      <th>ignore</th>\n",
       "    </tr>\n",
       "  </thead>\n",
       "  <tbody>\n",
       "    <tr>\n",
       "      <th>0</th>\n",
       "      <td>2025-05-24 05:00:00+00:00</td>\n",
       "      <td>108485.06</td>\n",
       "      <td>108530.73</td>\n",
       "      <td>108126.99</td>\n",
       "      <td>108235.68</td>\n",
       "      <td>437.82917</td>\n",
       "      <td>2025-05-24 05:59:59.999000+00:00</td>\n",
       "      <td>4.742644e+07</td>\n",
       "      <td>84433.0</td>\n",
       "      <td>178.58541</td>\n",
       "      <td>1.934577e+07</td>\n",
       "      <td>0.0</td>\n",
       "    </tr>\n",
       "    <tr>\n",
       "      <th>1</th>\n",
       "      <td>2025-05-24 06:00:00+00:00</td>\n",
       "      <td>108235.69</td>\n",
       "      <td>108342.53</td>\n",
       "      <td>107683.96</td>\n",
       "      <td>107959.99</td>\n",
       "      <td>682.25870</td>\n",
       "      <td>2025-05-24 06:59:59.999000+00:00</td>\n",
       "      <td>7.362721e+07</td>\n",
       "      <td>127741.0</td>\n",
       "      <td>256.50189</td>\n",
       "      <td>2.768510e+07</td>\n",
       "      <td>0.0</td>\n",
       "    </tr>\n",
       "    <tr>\n",
       "      <th>2</th>\n",
       "      <td>2025-05-24 07:00:00+00:00</td>\n",
       "      <td>107959.99</td>\n",
       "      <td>108227.27</td>\n",
       "      <td>107566.37</td>\n",
       "      <td>107587.75</td>\n",
       "      <td>458.42202</td>\n",
       "      <td>2025-05-24 07:59:59.999000+00:00</td>\n",
       "      <td>4.948819e+07</td>\n",
       "      <td>86093.0</td>\n",
       "      <td>190.71759</td>\n",
       "      <td>2.059086e+07</td>\n",
       "      <td>0.0</td>\n",
       "    </tr>\n",
       "    <tr>\n",
       "      <th>3</th>\n",
       "      <td>2025-05-24 08:00:00+00:00</td>\n",
       "      <td>107587.75</td>\n",
       "      <td>108285.39</td>\n",
       "      <td>107587.74</td>\n",
       "      <td>108251.23</td>\n",
       "      <td>520.00591</td>\n",
       "      <td>2025-05-24 08:59:59.999000+00:00</td>\n",
       "      <td>5.612330e+07</td>\n",
       "      <td>99346.0</td>\n",
       "      <td>295.89243</td>\n",
       "      <td>3.193782e+07</td>\n",
       "      <td>0.0</td>\n",
       "    </tr>\n",
       "    <tr>\n",
       "      <th>4</th>\n",
       "      <td>2025-05-24 09:00:00+00:00</td>\n",
       "      <td>108251.23</td>\n",
       "      <td>108434.00</td>\n",
       "      <td>108158.09</td>\n",
       "      <td>108161.69</td>\n",
       "      <td>467.30605</td>\n",
       "      <td>2025-05-24 09:59:59.999000+00:00</td>\n",
       "      <td>5.060146e+07</td>\n",
       "      <td>81329.0</td>\n",
       "      <td>176.10537</td>\n",
       "      <td>1.906851e+07</td>\n",
       "      <td>0.0</td>\n",
       "    </tr>\n",
       "  </tbody>\n",
       "</table>\n",
       "</div>"
      ],
      "text/plain": [
       "                  open_time       open       high        low      close  \\\n",
       "0 2025-05-24 05:00:00+00:00  108485.06  108530.73  108126.99  108235.68   \n",
       "1 2025-05-24 06:00:00+00:00  108235.69  108342.53  107683.96  107959.99   \n",
       "2 2025-05-24 07:00:00+00:00  107959.99  108227.27  107566.37  107587.75   \n",
       "3 2025-05-24 08:00:00+00:00  107587.75  108285.39  107587.74  108251.23   \n",
       "4 2025-05-24 09:00:00+00:00  108251.23  108434.00  108158.09  108161.69   \n",
       "\n",
       "      volume                       close_time  quote_asset_volume  \\\n",
       "0  437.82917 2025-05-24 05:59:59.999000+00:00        4.742644e+07   \n",
       "1  682.25870 2025-05-24 06:59:59.999000+00:00        7.362721e+07   \n",
       "2  458.42202 2025-05-24 07:59:59.999000+00:00        4.948819e+07   \n",
       "3  520.00591 2025-05-24 08:59:59.999000+00:00        5.612330e+07   \n",
       "4  467.30605 2025-05-24 09:59:59.999000+00:00        5.060146e+07   \n",
       "\n",
       "   number_of_trades  taker_buy_base_volume  taker_buy_quote_volume  ignore  \n",
       "0           84433.0              178.58541            1.934577e+07     0.0  \n",
       "1          127741.0              256.50189            2.768510e+07     0.0  \n",
       "2           86093.0              190.71759            2.059086e+07     0.0  \n",
       "3           99346.0              295.89243            3.193782e+07     0.0  \n",
       "4           81329.0              176.10537            1.906851e+07     0.0  "
      ]
     },
     "execution_count": 2,
     "metadata": {},
     "output_type": "execute_result"
    }
   ],
   "source": [
    "PROJECT_ROOT = Path().resolve().parent\n",
    "DATA_PATH = PROJECT_ROOT / 'data/btcusdt_1h.csv'\n",
    "df = pd.read_csv(DATA_PATH, parse_dates=['open_time', 'close_time'])\n",
    "df = df.sort_values('open_time').reset_index(drop=True)\n",
    "df[['open', 'high', 'low', 'close', 'volume']] = df[['open', 'high', 'low', 'close', 'volume']].astype(float)\n",
    "df.head()\n"
   ]
  },
  {
   "cell_type": "markdown",
   "id": "7008290f",
   "metadata": {},
   "source": [
    "## 特徵工程\n",
    "五個指定因子 (Momentum, SMA, Volatility, RSI, Volume) 皆由 `close` 與 `volume` 推導：\n",
    "- Momentum：24 小時報酬率\n",
    "- SMA：24 小時簡單移動平均 (與現價的價差讓模型判斷偏離程度)\n",
    "- Volatility：24 小時的報酬率標準差\n",
    "- RSI：14 期 RSI 指標\n",
    "- Volume：以 z-score 正規化的成交量\n",
    "\n",
    "標籤定義為「下一個小時收盤價是否上漲」。"
   ]
  },
  {
   "cell_type": "code",
   "execution_count": 3,
   "id": "12698eaa",
   "metadata": {},
   "outputs": [
    {
     "data": {
      "text/html": [
       "<div>\n",
       "<style scoped>\n",
       "    .dataframe tbody tr th:only-of-type {\n",
       "        vertical-align: middle;\n",
       "    }\n",
       "\n",
       "    .dataframe tbody tr th {\n",
       "        vertical-align: top;\n",
       "    }\n",
       "\n",
       "    .dataframe thead th {\n",
       "        text-align: right;\n",
       "    }\n",
       "</style>\n",
       "<table border=\"1\" class=\"dataframe\">\n",
       "  <thead>\n",
       "    <tr style=\"text-align: right;\">\n",
       "      <th></th>\n",
       "      <th>momentum_24h</th>\n",
       "      <th>sma_distance</th>\n",
       "      <th>volatility_24h</th>\n",
       "      <th>rsi_14</th>\n",
       "      <th>volume_z</th>\n",
       "      <th>target</th>\n",
       "    </tr>\n",
       "  </thead>\n",
       "  <tbody>\n",
       "    <tr>\n",
       "      <th>0</th>\n",
       "      <td>-0.001217</td>\n",
       "      <td>-322.799583</td>\n",
       "      <td>0.003262</td>\n",
       "      <td>35.412648</td>\n",
       "      <td>-0.803580</td>\n",
       "      <td>0</td>\n",
       "    </tr>\n",
       "    <tr>\n",
       "      <th>1</th>\n",
       "      <td>-0.000204</td>\n",
       "      <td>-487.863333</td>\n",
       "      <td>0.003234</td>\n",
       "      <td>31.906211</td>\n",
       "      <td>-0.457514</td>\n",
       "      <td>0</td>\n",
       "    </tr>\n",
       "    <tr>\n",
       "      <th>2</th>\n",
       "      <td>0.000874</td>\n",
       "      <td>-747.972500</td>\n",
       "      <td>0.003192</td>\n",
       "      <td>30.072550</td>\n",
       "      <td>-0.269577</td>\n",
       "      <td>0</td>\n",
       "    </tr>\n",
       "    <tr>\n",
       "      <th>3</th>\n",
       "      <td>-0.010548</td>\n",
       "      <td>-1272.796667</td>\n",
       "      <td>0.003095</td>\n",
       "      <td>26.052646</td>\n",
       "      <td>0.388233</td>\n",
       "      <td>1</td>\n",
       "    </tr>\n",
       "    <tr>\n",
       "      <th>4</th>\n",
       "      <td>-0.009523</td>\n",
       "      <td>-1207.619167</td>\n",
       "      <td>0.003096</td>\n",
       "      <td>23.696651</td>\n",
       "      <td>0.552369</td>\n",
       "      <td>0</td>\n",
       "    </tr>\n",
       "  </tbody>\n",
       "</table>\n",
       "</div>"
      ],
      "text/plain": [
       "   momentum_24h  sma_distance  volatility_24h     rsi_14  volume_z  target\n",
       "0     -0.001217   -322.799583        0.003262  35.412648 -0.803580       0\n",
       "1     -0.000204   -487.863333        0.003234  31.906211 -0.457514       0\n",
       "2      0.000874   -747.972500        0.003192  30.072550 -0.269577       0\n",
       "3     -0.010548  -1272.796667        0.003095  26.052646  0.388233       1\n",
       "4     -0.009523  -1207.619167        0.003096  23.696651  0.552369       0"
      ]
     },
     "execution_count": 3,
     "metadata": {},
     "output_type": "execute_result"
    }
   ],
   "source": [
    "def compute_rsi(series: pd.Series, period: int = 14) -> pd.Series:\n",
    "    delta = series.diff()\n",
    "    gain = delta.clip(lower=0)\n",
    "    loss = -delta.clip(upper=0)\n",
    "    avg_gain = gain.rolling(period).mean()\n",
    "    avg_loss = loss.rolling(period).mean()\n",
    "    rs = avg_gain / avg_loss\n",
    "    rsi = 100 - (100 / (1 + rs))\n",
    "    return rsi.fillna(0)\n",
    "\n",
    "df['momentum_24h'] = df['close'].pct_change(24)\n",
    "df['sma_24h'] = df['close'].rolling(24).mean()\n",
    "df['sma_distance'] = df['close'] - df['sma_24h']\n",
    "log_return = np.log(df['close']).diff()\n",
    "df['volatility_24h'] = log_return.rolling(24).std()\n",
    "df['rsi_14'] = compute_rsi(df['close'], 14)\n",
    "volume_z = (df['volume'] - df['volume'].rolling(24).mean()) / df['volume'].rolling(24).std()\n",
    "df['volume_z'] = volume_z.fillna(0)\n",
    "\n",
    "df['return'] = df['close'].pct_change()\n",
    "df['future_return'] = df['return'].shift(-1)\n",
    "df['target'] = (df['future_return'] > 0).astype(int)\n",
    "\n",
    "feature_cols = ['momentum_24h', 'sma_distance', 'volatility_24h', 'rsi_14', 'volume_z']\n",
    "df_features = df.dropna(subset=feature_cols + ['future_return'])\n",
    "df_features = df_features.reset_index(drop=True)\n",
    "df_features[feature_cols + ['target']].head()"
   ]
  },
  {
   "cell_type": "markdown",
   "id": "71fd7410",
   "metadata": {},
   "source": [
    "## 訓練 / 測試切分\n",
    "使用 70% 的時間序列資料訓練，剩餘 30% 作為回測輸入。"
   ]
  },
  {
   "cell_type": "code",
   "execution_count": 4,
   "id": "6fb60408",
   "metadata": {},
   "outputs": [
    {
     "data": {
      "text/plain": [
       "((2004, 5), (859, 5))"
      ]
     },
     "execution_count": 4,
     "metadata": {},
     "output_type": "execute_result"
    }
   ],
   "source": [
    "X = df_features[feature_cols]\n",
    "y = df_features['target']\n",
    "split_index = int(len(df_features) * 0.7)\n",
    "X_train, X_test = X.iloc[:split_index], X.iloc[split_index:]\n",
    "y_train, y_test = y.iloc[:split_index], y.iloc[split_index:]\n",
    "time_index_train = df_features['open_time'].iloc[:split_index]\n",
    "time_index_test = df_features['open_time'].iloc[split_index:]\n",
    "X_train.shape, X_test.shape"
   ]
  },
  {
   "cell_type": "markdown",
   "id": "96fdf502",
   "metadata": {},
   "source": [
    "## 建立 Logistic Regression Pipeline\n",
    "透過 `StandardScaler` 統一特徵範圍，再用 `LogisticRegression` 建模。"
   ]
  },
  {
   "cell_type": "code",
   "execution_count": 5,
   "id": "0ae8c08e",
   "metadata": {},
   "outputs": [
    {
     "name": "stdout",
     "output_type": "stream",
     "text": [
      "Accuracy: 0.541\n",
      "              precision    recall  f1-score   support\n",
      "\n",
      "           0      0.541     0.528     0.534       428\n",
      "           1      0.542     0.555     0.548       431\n",
      "\n",
      "    accuracy                          0.541       859\n",
      "   macro avg      0.541     0.541     0.541       859\n",
      "weighted avg      0.541     0.541     0.541       859\n",
      "\n"
     ]
    }
   ],
   "source": [
    "pipeline = Pipeline(steps=[\n",
    "    ('scaler', StandardScaler()),\n",
    "    ('model', LogisticRegression(max_iter=200, class_weight='balanced'))\n",
    "])\n",
    "pipeline.fit(X_train, y_train)\n",
    "y_pred = pipeline.predict(X_test)\n",
    "y_proba = pipeline.predict_proba(X_test)[:, 1]\n",
    "accuracy = accuracy_score(y_test, y_pred)\n",
    "print(f'Accuracy: {accuracy:.3f}')\n",
    "print(classification_report(y_test, y_pred, digits=3))"
   ]
  },
  {
   "cell_type": "markdown",
   "id": "45a98570",
   "metadata": {},
   "source": [
    "## 係數解讀\n",
    "將標準化後的特徵係數轉回表格，了解哪些因子對預測較為重要。"
   ]
  },
  {
   "cell_type": "code",
   "execution_count": 6,
   "id": "8b9b038b",
   "metadata": {},
   "outputs": [
    {
     "data": {
      "image/png": "[encoded data removed]",
      "text/plain": [
       "<Figure size 600x400 with 1 Axes>"
      ]
     },
     "metadata": {},
     "output_type": "display_data"
    }
   ],
   "source": [
    "coef = pipeline.named_steps['model'].coef_[0]\n",
    "coefs = pd.Series(coef, index=feature_cols).sort_values()\n",
    "coefs.plot(kind='barh', figsize=(6, 4))\n",
    "plt.title('Logistic Regression Coefficients')\n",
    "plt.xlabel('Weight')\n",
    "plt.show()"
   ]
  },
  {
   "cell_type": "markdown",
   "id": "dd90275b",
   "metadata": {},
   "source": [
    "## 回測策略績效\n",
    "若模型預測下一根 K 線會上漲 (> 0.5)，則持有多頭部位，否則空手。將策略報酬與單純持有比較。"
   ]
  },
  {
   "cell_type": "code",
   "execution_count": 7,
   "id": "65efc004",
   "metadata": {},
   "outputs": [
    {
     "data": {
      "text/html": [
       "<div>\n",
       "<style scoped>\n",
       "    .dataframe tbody tr th:only-of-type {\n",
       "        vertical-align: middle;\n",
       "    }\n",
       "\n",
       "    .dataframe tbody tr th {\n",
       "        vertical-align: top;\n",
       "    }\n",
       "\n",
       "    .dataframe thead th {\n",
       "        text-align: right;\n",
       "    }\n",
       "</style>\n",
       "<table border=\"1\" class=\"dataframe\">\n",
       "  <thead>\n",
       "    <tr style=\"text-align: right;\">\n",
       "      <th></th>\n",
       "      <th>open_time</th>\n",
       "      <th>probability</th>\n",
       "      <th>signal</th>\n",
       "      <th>strategy_return</th>\n",
       "    </tr>\n",
       "  </thead>\n",
       "  <tbody>\n",
       "    <tr>\n",
       "      <th>2004</th>\n",
       "      <td>2025-08-16 17:00:00+00:00</td>\n",
       "      <td>0.511493</td>\n",
       "      <td>1</td>\n",
       "      <td>-0.000061</td>\n",
       "    </tr>\n",
       "    <tr>\n",
       "      <th>2005</th>\n",
       "      <td>2025-08-16 18:00:00+00:00</td>\n",
       "      <td>0.510764</td>\n",
       "      <td>1</td>\n",
       "      <td>-0.000116</td>\n",
       "    </tr>\n",
       "    <tr>\n",
       "      <th>2006</th>\n",
       "      <td>2025-08-16 19:00:00+00:00</td>\n",
       "      <td>0.500951</td>\n",
       "      <td>1</td>\n",
       "      <td>-0.000142</td>\n",
       "    </tr>\n",
       "    <tr>\n",
       "      <th>2007</th>\n",
       "      <td>2025-08-16 20:00:00+00:00</td>\n",
       "      <td>0.502508</td>\n",
       "      <td>1</td>\n",
       "      <td>-0.001727</td>\n",
       "    </tr>\n",
       "    <tr>\n",
       "      <th>2008</th>\n",
       "      <td>2025-08-16 21:00:00+00:00</td>\n",
       "      <td>0.508891</td>\n",
       "      <td>1</td>\n",
       "      <td>0.000071</td>\n",
       "    </tr>\n",
       "  </tbody>\n",
       "</table>\n",
       "</div>"
      ],
      "text/plain": [
       "                     open_time  probability  signal  strategy_return\n",
       "2004 2025-08-16 17:00:00+00:00     0.511493       1        -0.000061\n",
       "2005 2025-08-16 18:00:00+00:00     0.510764       1        -0.000116\n",
       "2006 2025-08-16 19:00:00+00:00     0.500951       1        -0.000142\n",
       "2007 2025-08-16 20:00:00+00:00     0.502508       1        -0.001727\n",
       "2008 2025-08-16 21:00:00+00:00     0.508891       1         0.000071"
      ]
     },
     "execution_count": 7,
     "metadata": {},
     "output_type": "execute_result"
    }
   ],
   "source": [
    "backtest = df_features.iloc[split_index:].copy()\n",
    "backtest = backtest.assign(\n",
    "    probability=y_proba,\n",
    "    prediction=y_pred,\n",
    "    signal=(y_proba > 0.5).astype(int)\n",
    ")\n",
    "backtest['strategy_return'] = backtest['future_return'] * backtest['signal']\n",
    "backtest['buy_hold_return'] = backtest['future_return']\n",
    "backtest['strategy_equity'] = (1 + backtest['strategy_return']).cumprod()\n",
    "backtest['buy_hold_equity'] = (1 + backtest['buy_hold_return']).cumprod()\n",
    "backtest[['open_time', 'probability', 'signal', 'strategy_return']].head()"
   ]
  },
  {
   "cell_type": "code",
   "execution_count": 8,
   "id": "37726334",
   "metadata": {},
   "outputs": [
    {
     "data": {
      "image/png": "[encoded data removed]",
      "text/plain": [
       "<Figure size 1000x500 with 1 Axes>"
      ]
     },
     "metadata": {},
     "output_type": "display_data"
    }
   ],
   "source": [
    "plt.figure(figsize=(10, 5))\n",
    "plt.plot(backtest['open_time'], backtest['strategy_equity'], label='Strategy')\n",
    "plt.plot(backtest['open_time'], backtest['buy_hold_equity'], label='Buy & Hold')\n",
    "plt.title('Cumulative Equity Curve')\n",
    "plt.xlabel('Time')\n",
    "plt.ylabel('Equity (relative)')\n",
    "plt.legend()\n",
    "plt.show()"
   ]
  },
  {
   "cell_type": "markdown",
   "id": "b29f6c4d",
   "metadata": {},
   "source": [
    "## 結論與下一步\n",
    "- Logistic Regression 可快速給出具有解釋性的方向預測，適合做為基準模型。\n",
    "- 仍可嘗試更多技術指標、特徵選擇、或不同的機器學習模型，並加入交易成本後再次評估策略績效。"
   ]
  }
 ],
 "metadata": {
  "kernelspec": {
   "display_name": "Python 3 (ipykernel)",
   "language": "python",
   "name": "python3"
  },
  "language_info": {
   "codemirror_mode": {
    "name": "ipython",
    "version": 3
   },
   "file_extension": ".py",
   "mimetype": "text/x-python",
   "name": "python",
   "nbconvert_exporter": "python",
   "pygments_lexer": "ipython3",
   "version": "3.13.5"
  }
 },
 "nbformat": 4,
 "nbformat_minor": 5
}
