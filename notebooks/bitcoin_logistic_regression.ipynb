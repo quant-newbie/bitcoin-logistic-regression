{
  "cells": [
    {
      "cell_type": "markdown",
      "metadata": {},
      "source": [
        "# Bitcoin Logistic Regression Pipeline\n\n",
        "此 notebook 示範如何下載 Binance BTC/USDT 的歷史資料、計算技術指標特徵，並以邏輯迴歸模型預測下一期價格是否上漲，同時進行簡易回測。"
      ]
    },
    {
      "cell_type": "markdown",
      "metadata": {},
      "source": [
        "## 1. 下載資料\n\n",
        "首先設定資料來源與讀取函式。如果本地 `data/` 目錄尚未有資料，會自動呼叫 `fetch_data.py` 從 Binance API 抓取 1 小時 K 線。"
      ]
    },
    {
      "cell_type": "code",
      "metadata": {},
      "execution_count": null,
      "outputs": [],
      "source": [
        "import datetime as dt\n",
        "from pathlib import Path\n",
        "import subprocess\n\n",
        "import numpy as np\n",
        "import pandas as pd\n\n",
        "DATA_PATH = Path(\"data/btcusdt_1h.csv\")\n\n",
        "if not DATA_PATH.exists():\n",
        "    print(\"Data file not found, downloading from Binance...\")\n",
        "    subprocess.run([\n",
        "        \"python\",\n",
        "        \"fetch_data.py\",\n",
        "        \"--symbol\",\n",
        "        \"BTCUSDT\",\n",
        "        \"--interval\",\n",
        "        \"1h\",\n",
        "        \"--start\",\n",
        "        (dt.datetime.utcnow() - dt.timedelta(days=180)).replace(minute=0, second=0, microsecond=0).isoformat(),\n",
        "        \"--end\",\n",
        "        dt.datetime.utcnow().replace(minute=0, second=0, microsecond=0).isoformat(),\n",
        "        \"--output\",\n",
        "        str(DATA_PATH),\n",
        "    ], check=True)\n",
        "else:\n",
        "    print(f\"Using cached data: {DATA_PATH}\")\n"
      ]
    },
    {
      "cell_type": "markdown",
      "metadata": {},
      "source": [
        "## 2. 載入並整理資料\n\n",
        "轉換時間欄位並計算報酬率，快速檢查資料狀況。"
      ]
    },
    {
      "cell_type": "code",
      "metadata": {},
      "execution_count": null,
      "outputs": [],
      "source": [
        "df = pd.read_csv(DATA_PATH)\n",
        "df['open_time'] = pd.to_datetime(df['open_time'], unit='ms')\n",
        "df['close_time'] = pd.to_datetime(df['close_time'], unit='ms')\n",
        "df[['open', 'high', 'low', 'close', 'volume']] = df[['open', 'high', 'low', 'close', 'volume']].astype(float)\n",
        "df = df.sort_values('open_time').reset_index(drop=True)\n",
        "df['return'] = df['close'].pct_change()\n",
        "df.tail()\n"
      ]
    },
    {
      "cell_type": "markdown",
      "metadata": {},
      "source": [
        "## 3. 建立技術指標特徵\n\n",
        "包含下列指標：\n\n",
        "1. **Momentum**：`close` 與 3 期前的差值。\n",
        "2. **SMA**：10 期簡單移動平均。\n",
        "3. **Volatility**：10 期報酬率的標準差。\n",
        "4. **RSI**：14 期相對強弱指標。\n",
        "5. **Volume**：以 z-score 正規化的成交量。"
      ]
    },
    {
      "cell_type": "code",
      "metadata": {},
      "execution_count": null,
      "outputs": [],
      "source": [
        "window_sma = 10\n",
        "window_momentum = 3\n",
        "window_vol = 10\n",
        "window_rsi = 14\n\n",
        "df['momentum'] = df['close'] - df['close'].shift(window_momentum)\n",
        "df['sma'] = df['close'].rolling(window_sma).mean()\n",
        "df['volatility'] = df['return'].rolling(window_vol).std()\n\n",
        "# RSI 計算\n",
        "change = df['close'].diff()\n",
        "gain = change.clip(lower=0)\n",
        "loss = -change.clip(upper=0)\n",
        "avg_gain = gain.rolling(window_rsi).mean()\n",
        "avg_loss = loss.rolling(window_rsi).mean()\n",
        "rs = avg_gain / avg_loss\n",
        "rsi = 100 - (100 / (1 + rs))\n",
        "df['rsi'] = rsi\n",
        "df['volume_z'] = (df['volume'] - df['volume'].rolling(window_vol).mean()) / df['volume'].rolling(window_vol).std()\n\n",
        "feature_cols = ['momentum', 'sma', 'volatility', 'rsi', 'volume_z']\n",
        "df_features = df.dropna(subset=feature_cols).copy()\n",
        "df_features['target'] = (df_features['close'].shift(-1) > df_features['close']).astype(int)\n",
        "df_features = df_features.dropna(subset=['target'])\n",
        "feature_cols, df_features.head()\n"
      ]
    },
    {
      "cell_type": "markdown",
      "metadata": {},
      "source": [
        "## 4. 切分資料與訓練模型\n\n",
        "使用時間序列的 70% 做訓練，其餘做測試，並以 scikit-learn 的 `LogisticRegression` 進行模型訓練。"
      ]
    },
    {
      "cell_type": "code",
      "metadata": {},
      "execution_count": null,
      "outputs": [],
      "source": [
        "from sklearn.linear_model import LogisticRegression\n",
        "from sklearn.metrics import accuracy_score, classification_report\n\n",
        "split_idx = int(len(df_features) * 0.7)\n",
        "train = df_features.iloc[:split_idx]\n",
        "test = df_features.iloc[split_idx:]\n\n",
        "X_train, y_train = train[feature_cols], train['target']\n",
        "X_test, y_test = test[feature_cols], test['target']\n\n",
        "model = LogisticRegression(max_iter=1000)\n",
        "model.fit(X_train, y_train)\n\n",
        "y_pred = model.predict(X_test)\n",
        "y_proba = model.predict_proba(X_test)[:, 1]\n\n",
        "print(\"Accuracy:\", accuracy_score(y_test, y_pred))\n",
        "print(classification_report(y_test, y_pred))\n"
      ]
    },
    {
      "cell_type": "markdown",
      "metadata": {},
      "source": [
        "## 5. 回測策略\n\n",
        "策略假設：\n",
        "- 若預測下一期價格上漲機率大於 0.5 則持有多頭，否則持有空頭。\n",
        "- 回測以 `close` 價格的報酬率作為標的。"
      ]
    },
    {
      "cell_type": "code",
      "metadata": {},
      "execution_count": null,
      "outputs": [],
      "source": [
        "import matplotlib.pyplot as plt\n\n",
        "backtest = test.copy()\n",
        "backtest = backtest.assign(\n",
        "    prob=y_proba,\n",
        "    position=np.where(y_proba > 0.5, 1, -1)\n",
        ")\n",
        "backtest['strategy_return'] = backtest['position'] * backtest['return'].shift(-1)\n",
        "backtest['buy_hold'] = backtest['return'].shift(-1)\n",
        "backtest[['strategy_return', 'buy_hold']] = backtest[['strategy_return', 'buy_hold']].fillna(0)\n\n",
        "backtest['strategy_cum'] = (1 + backtest['strategy_return']).cumprod()\n",
        "backtest['buy_hold_cum'] = (1 + backtest['buy_hold']).cumprod()\n\n",
        "fig, ax = plt.subplots(figsize=(10, 5))\n",
        "ax.plot(backtest['open_time'], backtest['strategy_cum'], label='Strategy (LR)')\n",
        "ax.plot(backtest['open_time'], backtest['buy_hold_cum'], label='Buy & Hold')\n",
        "ax.set_title('Backtest Cumulative Returns')\n",
        "ax.set_ylabel('Equity Curve')\n",
        "ax.legend()\n",
        "plt.xticks(rotation=45)\n",
        "plt.tight_layout()\n",
        "plt.show()\n"
      ]
    },
    {
      "cell_type": "markdown",
      "metadata": {},
      "source": [
        "## 6. 結論\n\n",
        "以少量技術指標建立的簡易邏輯迴歸模型能提供價格方向的初步判斷，但仍需考慮特徵工程與風險控管。接下來可嘗試更多指標、不同時間週期或加入交易成本假設。"
      ]
    }
  ],
  "metadata": {
    "kernelspec": {
      "display_name": "Python 3",
      "language": "python",
      "name": "python3"
    },
    "language_info": {
      "name": "python",
      "version": "3.10"
    }
  },
  "nbformat": 4,
  "nbformat_minor": 5
}